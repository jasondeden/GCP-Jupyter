{
 "cells": [
  {
   "cell_type": "markdown",
   "metadata": {
    "nbgrader": {
     "grade": false,
     "grade_id": "intro",
     "locked": true,
     "schema_version": 1,
     "solution": false
    }
   },
   "source": [
    "# Merging Hospital Pricing Datasets"
   ]
  },
  {
   "cell_type": "markdown",
   "metadata": {
    "nbgrader": {
     "grade": false,
     "grade_id": "q1-description",
     "locked": true,
     "schema_version": 1,
     "solution": false
    }
   },
   "source": [
    "### Making Sense of Hospital Pricing Transparency\n",
    "\n",
    "Reference: https://www.cms.gov/hospital-price-transparency\n",
    "\n",
    "In January 2021, hospitals were required to publish in \"a comprehensive machine-readable file with all items and services\" that the hospital provides. This project takes two such files - one JSON and one XML - and combines them into a single dictionary which can be accessed programatically, and then pushes the output to a CSV file which is then read back in using Pandas. This was part of an exercise for a programming class in my Master's Degree program in Health Data Science, republished by permission from my instructor."
   ]
  },
  {
   "cell_type": "markdown",
   "metadata": {},
   "source": [
    "## Start by accessing and formatting the files"
   ]
  },
  {
   "cell_type": "code",
   "execution_count": 3,
   "metadata": {},
   "outputs": [],
   "source": [
    "import json\n",
    "# from lxml import objectify"
   ]
  },
  {
   "cell_type": "code",
   "execution_count": 4,
   "metadata": {},
   "outputs": [],
   "source": [
    "jsonfile = 'whiteriver.json'\n",
    "xmlfile = 'saline.xml'"
   ]
  },
  {
   "cell_type": "code",
   "execution_count": 5,
   "metadata": {},
   "outputs": [],
   "source": [
    "jsondata = json.load(open(jsonfile))"
   ]
  },
  {
   "cell_type": "markdown",
   "metadata": {},
   "source": [
    "### JSON data is now loaded"
   ]
  },
  {
   "cell_type": "markdown",
   "metadata": {},
   "source": [
    "### Uncomment the following cell if you haven't installed xmltodict yet"
   ]
  },
  {
   "cell_type": "code",
   "execution_count": 6,
   "metadata": {},
   "outputs": [],
   "source": [
    "#pip install xmltodict --user  "
   ]
  },
  {
   "cell_type": "code",
   "execution_count": 7,
   "metadata": {},
   "outputs": [],
   "source": [
    "import xmltodict\n",
    "f = open(xmlfile)\n",
    "xmopen = f.read()\n",
    "f.close()\n",
    "xmldata = xmltodict.parse(xmopen)\n",
    "#xmldata"
   ]
  },
  {
   "cell_type": "markdown",
   "metadata": {},
   "source": [
    "### XML data is now loaded and has been converted to DICT. "
   ]
  },
  {
   "cell_type": "markdown",
   "metadata": {},
   "source": [
    "### Store hospital names as variables and define top level data within each structure."
   ]
  },
  {
   "cell_type": "code",
   "execution_count": 8,
   "metadata": {},
   "outputs": [],
   "source": [
    "whospital = jsondata['root']['HospitalorFacilityName']"
   ]
  },
  {
   "cell_type": "code",
   "execution_count": 9,
   "metadata": {},
   "outputs": [
    {
     "data": {
      "text/plain": [
       "'White River Medical Center'"
      ]
     },
     "execution_count": 9,
     "metadata": {},
     "output_type": "execute_result"
    }
   ],
   "source": [
    "whospital"
   ]
  },
  {
   "cell_type": "code",
   "execution_count": 10,
   "metadata": {},
   "outputs": [],
   "source": [
    "wriverdata = jsondata['root']['StandardCharges']"
   ]
  },
  {
   "cell_type": "code",
   "execution_count": 11,
   "metadata": {},
   "outputs": [],
   "source": [
    "shospital = xmldata['StandardCharges']['Facility']['@Name']"
   ]
  },
  {
   "cell_type": "code",
   "execution_count": 12,
   "metadata": {},
   "outputs": [
    {
     "data": {
      "text/plain": [
       "'SALINE MEMORIAL HOSPITAL'"
      ]
     },
     "execution_count": 12,
     "metadata": {},
     "output_type": "execute_result"
    }
   ],
   "source": [
    "shospital"
   ]
  },
  {
   "cell_type": "code",
   "execution_count": 13,
   "metadata": {},
   "outputs": [],
   "source": [
    "salinedata = xmldata['StandardCharges']['Facility']['Patient']"
   ]
  },
  {
   "cell_type": "markdown",
   "metadata": {},
   "source": [
    "### Some data processing and troubleshooting work"
   ]
  },
  {
   "cell_type": "markdown",
   "metadata": {},
   "source": [
    "Left the following code blocks in so that you could follow my data processing and troubleshooting steps. It turned out the saline.xml data was not formatted consistently, so this required some sleuthing to figure out what was different and where in order to be able to get all of the data added to the dictionary."
   ]
  },
  {
   "cell_type": "code",
   "execution_count": 14,
   "metadata": {},
   "outputs": [],
   "source": [
    "#xmldata['StandardCharges']['Facility']['Patient'][1]['Charge']['Item'][1]"
   ]
  },
  {
   "cell_type": "code",
   "execution_count": 15,
   "metadata": {},
   "outputs": [],
   "source": [
    "#salinedata0 = salinedata[0]  #Need to loop through at this level - LOOP HERE"
   ]
  },
  {
   "cell_type": "code",
   "execution_count": 16,
   "metadata": {},
   "outputs": [],
   "source": [
    "#salinedata1 = salinedata0['Charge'][0] #Need to loop through at this level - LOOP HERE"
   ]
  },
  {
   "cell_type": "code",
   "execution_count": 17,
   "metadata": {},
   "outputs": [],
   "source": [
    "#salinedata0['Charge'][0]['Item'][0]['Contracts']['Contract'] #Payor and Price\n",
    "#salinedata2 = salinedata1['Item'] "
   ]
  },
  {
   "cell_type": "code",
   "execution_count": 18,
   "metadata": {},
   "outputs": [],
   "source": [
    "#salinedata2[0] #Individual record starting at 0 - LOOP HERE\n",
    "#int(salinedata2[0].get('@Code')) #Index to join on = Procedure Code from wrdata\n",
    "#salinedata2[0].get('Description') #Text Description\n",
    "\n",
    "\n",
    "#salinedata[0]['Charge'][0]['Item'][0] #formats correctly\n",
    "#salinedata[0]['Charge']['Item'][0] #error\n",
    "\n",
    "#salinedata[1]['Charge'][0]['Item'][0] #error\n",
    "#salinedata[1]['Charge']['Item'][0] #formats correctly\n",
    "\n",
    "#salinedata[2]['Charge'][0]['Item'][0] #error\n",
    "#salinedata[2]['Charge']['Item'][0] #formats correctly\n",
    "\n",
    "#Need to write check for salinedata[x] and run different code based on which one...\n"
   ]
  },
  {
   "cell_type": "code",
   "execution_count": 19,
   "metadata": {},
   "outputs": [],
   "source": [
    "#wriverdata[0] #Individual record starting at 0 -- LOOP HERE\n",
    "#wriverdata[0].get('Description') # Text Description\n",
    "#int(wriverdata[0].get('ProcedureCode')) # The index to join on"
   ]
  },
  {
   "cell_type": "markdown",
   "metadata": {},
   "source": [
    "### Define the dictionary file"
   ]
  },
  {
   "cell_type": "code",
   "execution_count": 20,
   "metadata": {},
   "outputs": [],
   "source": [
    "combodict = {} #{chargecode : , textdescJSON : , {hospital : , {maxcharge : , discountcashcharge : , mincharge : }}}"
   ]
  },
  {
   "cell_type": "markdown",
   "metadata": {},
   "source": [
    "### Build the initial entries based on the (easier to work with) JSON data"
   ]
  },
  {
   "cell_type": "code",
   "execution_count": 21,
   "metadata": {},
   "outputs": [],
   "source": [
    "#start building combo with wriver JSON data\n",
    "#already exist: whospital (name of white river hospital pulled from JSON file)\n",
    "\n",
    "for x in range(len(wriverdata)):\n",
    "    \n",
    "    procedure = int(wriverdata[x].get('ProcedureCode'))\n",
    "    textdesc = wriverdata[x].get('Description')\n",
    "    maxcharge = round(float(wriverdata[x].get('MaximumNegotiatedCharge')),2)\n",
    "    discountcash = round(float(wriverdata[x].get('DiscountedCashPrice')),2)\n",
    "    mincharge = round(float(wriverdata[x].get('MinimumNegotiatedCharge')),2)\n",
    "    \n",
    "    combodict[procedure] = {}\n",
    "    combodict[procedure][whospital] = {}\n",
    "    combodict[procedure][whospital]['Charge'] = (maxcharge, discountcash, mincharge)\n",
    "    combodict[procedure][whospital]['Description'] = textdesc\n",
    "        \n",
    "        "
   ]
  },
  {
   "cell_type": "markdown",
   "metadata": {},
   "source": [
    "### Check the size for comparison later - should be 100"
   ]
  },
  {
   "cell_type": "code",
   "execution_count": 23,
   "metadata": {},
   "outputs": [
    {
     "data": {
      "text/plain": [
       "100"
      ]
     },
     "execution_count": 23,
     "metadata": {},
     "output_type": "execute_result"
    }
   ],
   "source": [
    "len(combodict)"
   ]
  },
  {
   "cell_type": "markdown",
   "metadata": {},
   "source": [
    "### Add the Saline data from the XML file to the dictionary"
   ]
  },
  {
   "cell_type": "code",
   "execution_count": 24,
   "metadata": {},
   "outputs": [],
   "source": [
    "#Add Saline data to the dictionary\n",
    "#shospital defined in previous cell\n",
    "#The if statement accounts for diff format in salinedata[x]\n",
    "\n",
    "for a in range(len(salinedata)):\n",
    "    if a == 0:\n",
    "        for b in range(len(salinedata[a]['Charge'])):  \n",
    "            for x in range(len(salinedata[a]['Charge'][b]['Item'])): \n",
    "\n",
    "                procedure = salinedata[a]['Charge'][b]['Item'][x].get('@Code')\n",
    "\n",
    "                if salinedata[a]['Charge'][b]['Item'][x].get('@Code').isdigit():\n",
    "                    procedure = int(salinedata[a]['Charge'][b]['Item'][x].get('@Code'))\n",
    "\n",
    "\n",
    "                textdesc = salinedata[a]['Charge'][b]['Item'][x].get('Description')\n",
    "                maxcharge = round(float(salinedata[a]['Charge'][b]['Item'][x].get('MaxNegotiatedCharge')),2)\n",
    "                discountcash = round(float(salinedata[a]['Charge'][b]['Item'][x].get('DiscountCashCharge')),2)\n",
    "                mincharge = round(float(salinedata[a]['Charge'][b]['Item'][x].get('MinNegotiatedCharge')),2)\n",
    "\n",
    "                if procedure in combodict:\n",
    "                    combodict[procedure][shospital] = {}\n",
    "                    combodict[procedure][shospital]['Charge'] = (maxcharge, discountcash, mincharge)\n",
    "                    combodict[procedure][shospital]['Description'] = textdesc\n",
    "\n",
    "                else:\n",
    "                    combodict[procedure] = {}\n",
    "                    combodict[procedure][shospital] = {}\n",
    "                    combodict[procedure][shospital]['Charge'] = (maxcharge, discountcash, mincharge)\n",
    "                    combodict[procedure][shospital]['Description'] = textdesc\n",
    "                    \n",
    "\n",
    "    else:\n",
    "        for x in range(len(salinedata[a]['Charge']['Item'])): \n",
    "\n",
    "                procedure = salinedata[a]['Charge']['Item'][x].get('@Code')\n",
    "\n",
    "                if salinedata[a]['Charge']['Item'][x].get('@Code').isdigit():\n",
    "                    procedure = int(salinedata[a]['Charge']['Item'][x].get('@Code'))\n",
    "\n",
    "\n",
    "                textdesc = salinedata[a]['Charge']['Item'][x].get('Description')\n",
    "                maxcharge = round(float(salinedata[a]['Charge']['Item'][x].get('MaxNegotiatedCharge')),2)\n",
    "                discountcash = round(float(salinedata[a]['Charge']['Item'][x].get('DiscountCashCharge')),2)\n",
    "                mincharge = round(float(salinedata[a]['Charge']['Item'][x].get('MinNegotiatedCharge')),2)\n",
    "\n",
    "                if procedure in combodict:\n",
    "                    combodict[procedure][shospital] = {}\n",
    "                    combodict[procedure][shospital]['Charge'] = (maxcharge, discountcash, mincharge)\n",
    "                    combodict[procedure][shospital]['Description'] = textdesc\n",
    "\n",
    "                else:\n",
    "                    combodict[procedure] = {}\n",
    "                    combodict[procedure][shospital] = {}\n",
    "                    combodict[procedure][shospital]['Charge'] = (maxcharge, discountcash, mincharge)\n",
    "                    combodict[procedure][shospital]['Description'] = textdesc\n"
   ]
  },
  {
   "cell_type": "markdown",
   "metadata": {},
   "source": [
    "### Check to make sure the data has been added - should exceed 1,500"
   ]
  },
  {
   "cell_type": "code",
   "execution_count": 25,
   "metadata": {},
   "outputs": [
    {
     "data": {
      "text/plain": [
       "1567"
      ]
     },
     "execution_count": 25,
     "metadata": {},
     "output_type": "execute_result"
    }
   ],
   "source": [
    "len(combodict)"
   ]
  },
  {
   "cell_type": "markdown",
   "metadata": {},
   "source": [
    "### The checkprices() function tests to see if a given procedure code exists - used for troubleshooting"
   ]
  },
  {
   "cell_type": "code",
   "execution_count": 26,
   "metadata": {},
   "outputs": [],
   "source": [
    "def checkprices(procedurecode):\n",
    "    \"\"\"(int OR str) -> values that various hospitals charge for that procedure\n",
    "    Looks up a dictionary entry for a given procedure code and returns for White River and Saline hospitals\n",
    "    the max negotiated charge, discount cash price, and min negotiated charge for that procedure.\n",
    "    \n",
    "    >>> checkprices(175)\n",
    "    Code         Hospital            Max   Cash   Min\n",
    "    175 SALINE MEMORIAL HOSPITAL 11306.76 6689.86 6377.26\n",
    "    \n",
    "    >>> checkprices(\"J2785\")\n",
    "    \n",
    "    \"\"\"\n",
    "    \n",
    "    if procedurecode in combodict:\n",
    "        print(\"Code         Hospital            Max   Cash   Min      Description\")\n",
    "        for hospital in combodict[procedurecode]:\n",
    "            charges = combodict[procedurecode][hospital]['Charge']\n",
    "            description = combodict[procedurecode][hospital]['Description']\n",
    "            print(procedurecode, hospital, charges[0], charges[1], charges[2], description)\n",
    "    else:\n",
    "        print(\"That value is not present\")"
   ]
  },
  {
   "cell_type": "code",
   "execution_count": 28,
   "metadata": {},
   "outputs": [
    {
     "name": "stdout",
     "output_type": "stream",
     "text": [
      "Code         Hospital            Max   Cash   Min      Description\n",
      "99283 SALINE MEMORIAL HOSPITAL 1284.25 584.83 115.77 EMERGENCY DEPT VISIT\n"
     ]
    }
   ],
   "source": [
    "#checkprices(10120)  #This one has two hospitals data\n",
    "#checkprices(175)\n",
    "#checkprices(\"J2785\")\n",
    "checkprices(99283)   #This is one of the values initially excluded based on the formatting issue"
   ]
  },
  {
   "cell_type": "markdown",
   "metadata": {},
   "source": [
    "### The printprices() function prints the entire output to the screen - used for troubleshooting"
   ]
  },
  {
   "cell_type": "code",
   "execution_count": 29,
   "metadata": {},
   "outputs": [],
   "source": [
    "def printprices(dictionary = combodict):\n",
    "    \"\"\" (str(combodict)) -> printed table\n",
    "    Pulls in an updated dictoary of hospitals, codes, and pricing, etc. and outputs a table with the entire contents\n",
    "    Defaults to printing combodict as-is\n",
    "    \n",
    "    \"\"\"\n",
    "    print(\"Code         Hospital            Max   Cash   Min      Description\")\n",
    "    for procedurecode in dictionary:\n",
    "        for hospital in combodict[procedurecode]:\n",
    "            charges = combodict[procedurecode][hospital]['Charge']\n",
    "            description = combodict[procedurecode][hospital]['Description']\n",
    "            print(procedurecode, hospital, charges[0], charges[1], charges[2], description)"
   ]
  },
  {
   "cell_type": "code",
   "execution_count": 30,
   "metadata": {},
   "outputs": [],
   "source": [
    "#printprices()"
   ]
  },
  {
   "cell_type": "markdown",
   "metadata": {},
   "source": [
    "### The writeprices() function takes in the dictionary that has been built and writes a header plus the formatted output we want into a CSV file"
   ]
  },
  {
   "cell_type": "code",
   "execution_count": 31,
   "metadata": {},
   "outputs": [],
   "source": [
    "def writeprices(dictionary = combodict):\n",
    "    \"\"\" (str(combodict)) -> printed table\n",
    "    Pulls in an updated dictoary of hospitals, codes, and pricing, etc. and outputs a table with the entire contents\n",
    "    Defaults to printing combodict as-is\n",
    "    \n",
    "    \"\"\"\n",
    "    \n",
    "    import csv\n",
    "    \n",
    "    with open ('prices.csv', 'w', newline='') as csvfile:\n",
    "        writeme = csv.writer(csvfile)\n",
    "        writeme.writerow(['Procedure_Code','Hospital','MaxCharge','CashPrice', 'MinCharge', 'Description'])\n",
    "        \n",
    "        for procedurecode in dictionary:\n",
    "            for hospital in combodict[procedurecode]:\n",
    "                charges = combodict[procedurecode][hospital]['Charge']\n",
    "                description = combodict[procedurecode][hospital]['Description']\n",
    "                writeme.writerow([procedurecode, hospital, charges[0], charges[1], charges[2], description])"
   ]
  },
  {
   "cell_type": "code",
   "execution_count": 32,
   "metadata": {},
   "outputs": [],
   "source": [
    "writeprices()"
   ]
  },
  {
   "cell_type": "markdown",
   "metadata": {},
   "source": [
    "### Finally, use pandas to read the CSV file into a dataframe to get a nicely formatted version of the data on screen."
   ]
  },
  {
   "cell_type": "code",
   "execution_count": 33,
   "metadata": {},
   "outputs": [],
   "source": [
    "import pandas as pd\n",
    "\n",
    "df = pd.read_csv(\"prices.csv\")"
   ]
  },
  {
   "cell_type": "code",
   "execution_count": 34,
   "metadata": {},
   "outputs": [
    {
     "data": {
      "text/html": [
       "<div>\n",
       "<style scoped>\n",
       "    .dataframe tbody tr th:only-of-type {\n",
       "        vertical-align: middle;\n",
       "    }\n",
       "\n",
       "    .dataframe tbody tr th {\n",
       "        vertical-align: top;\n",
       "    }\n",
       "\n",
       "    .dataframe thead th {\n",
       "        text-align: right;\n",
       "    }\n",
       "</style>\n",
       "<table border=\"1\" class=\"dataframe\">\n",
       "  <thead>\n",
       "    <tr style=\"text-align: right;\">\n",
       "      <th></th>\n",
       "      <th>Procedure_Code</th>\n",
       "      <th>Hospital</th>\n",
       "      <th>MaxCharge</th>\n",
       "      <th>CashPrice</th>\n",
       "      <th>MinCharge</th>\n",
       "      <th>Description</th>\n",
       "    </tr>\n",
       "  </thead>\n",
       "  <tbody>\n",
       "    <tr>\n",
       "      <th>0</th>\n",
       "      <td>170</td>\n",
       "      <td>White River Medical Center</td>\n",
       "      <td>8400.99</td>\n",
       "      <td>4677.82</td>\n",
       "      <td>0.00</td>\n",
       "      <td>ANESTH PROCEDURE ON MOUTH</td>\n",
       "    </tr>\n",
       "    <tr>\n",
       "      <th>1</th>\n",
       "      <td>220</td>\n",
       "      <td>White River Medical Center</td>\n",
       "      <td>18.48</td>\n",
       "      <td>10.29</td>\n",
       "      <td>0.00</td>\n",
       "      <td>ANESTH INTRCRN NERVE</td>\n",
       "    </tr>\n",
       "    <tr>\n",
       "      <th>2</th>\n",
       "      <td>1996</td>\n",
       "      <td>White River Medical Center</td>\n",
       "      <td>224.40</td>\n",
       "      <td>124.95</td>\n",
       "      <td>0.00</td>\n",
       "      <td>HOSP MANAGE CONT DRUG ADMIN</td>\n",
       "    </tr>\n",
       "    <tr>\n",
       "      <th>3</th>\n",
       "      <td>10004</td>\n",
       "      <td>White River Medical Center</td>\n",
       "      <td>478.72</td>\n",
       "      <td>266.56</td>\n",
       "      <td>0.00</td>\n",
       "      <td>FNA BX W/O IMG GDN EA ADDL</td>\n",
       "    </tr>\n",
       "    <tr>\n",
       "      <th>4</th>\n",
       "      <td>10005</td>\n",
       "      <td>White River Medical Center</td>\n",
       "      <td>2287.12</td>\n",
       "      <td>1273.51</td>\n",
       "      <td>609.74</td>\n",
       "      <td>FNA BX W/US GDN 1ST LES</td>\n",
       "    </tr>\n",
       "    <tr>\n",
       "      <th>...</th>\n",
       "      <td>...</td>\n",
       "      <td>...</td>\n",
       "      <td>...</td>\n",
       "      <td>...</td>\n",
       "      <td>...</td>\n",
       "      <td>...</td>\n",
       "    </tr>\n",
       "    <tr>\n",
       "      <th>1602</th>\n",
       "      <td>S9126</td>\n",
       "      <td>SALINE MEMORIAL HOSPITAL</td>\n",
       "      <td>174.00</td>\n",
       "      <td>52.20</td>\n",
       "      <td>174.00</td>\n",
       "      <td>Hospice care, in the home, p</td>\n",
       "    </tr>\n",
       "    <tr>\n",
       "      <th>1603</th>\n",
       "      <td>S9128</td>\n",
       "      <td>SALINE MEMORIAL HOSPITAL</td>\n",
       "      <td>143.00</td>\n",
       "      <td>46.80</td>\n",
       "      <td>143.00</td>\n",
       "      <td>Speech therapy, in the home,</td>\n",
       "    </tr>\n",
       "    <tr>\n",
       "      <th>1604</th>\n",
       "      <td>S9129</td>\n",
       "      <td>SALINE MEMORIAL HOSPITAL</td>\n",
       "      <td>143.00</td>\n",
       "      <td>46.80</td>\n",
       "      <td>143.00</td>\n",
       "      <td>Occupational therapy, in the</td>\n",
       "    </tr>\n",
       "    <tr>\n",
       "      <th>1605</th>\n",
       "      <td>S9131</td>\n",
       "      <td>SALINE MEMORIAL HOSPITAL</td>\n",
       "      <td>177.00</td>\n",
       "      <td>53.10</td>\n",
       "      <td>107.00</td>\n",
       "      <td>Pt in the home per diem</td>\n",
       "    </tr>\n",
       "    <tr>\n",
       "      <th>1606</th>\n",
       "      <td>U0002</td>\n",
       "      <td>SALINE MEMORIAL HOSPITAL</td>\n",
       "      <td>116.52</td>\n",
       "      <td>68.36</td>\n",
       "      <td>51.31</td>\n",
       "      <td>Covid-19 lab test non-cdc</td>\n",
       "    </tr>\n",
       "  </tbody>\n",
       "</table>\n",
       "<p>1607 rows × 6 columns</p>\n",
       "</div>"
      ],
      "text/plain": [
       "     Procedure_Code                    Hospital  MaxCharge  CashPrice  \\\n",
       "0               170  White River Medical Center    8400.99    4677.82   \n",
       "1               220  White River Medical Center      18.48      10.29   \n",
       "2              1996  White River Medical Center     224.40     124.95   \n",
       "3             10004  White River Medical Center     478.72     266.56   \n",
       "4             10005  White River Medical Center    2287.12    1273.51   \n",
       "...             ...                         ...        ...        ...   \n",
       "1602          S9126    SALINE MEMORIAL HOSPITAL     174.00      52.20   \n",
       "1603          S9128    SALINE MEMORIAL HOSPITAL     143.00      46.80   \n",
       "1604          S9129    SALINE MEMORIAL HOSPITAL     143.00      46.80   \n",
       "1605          S9131    SALINE MEMORIAL HOSPITAL     177.00      53.10   \n",
       "1606          U0002    SALINE MEMORIAL HOSPITAL     116.52      68.36   \n",
       "\n",
       "      MinCharge                   Description  \n",
       "0          0.00     ANESTH PROCEDURE ON MOUTH  \n",
       "1          0.00          ANESTH INTRCRN NERVE  \n",
       "2          0.00   HOSP MANAGE CONT DRUG ADMIN  \n",
       "3          0.00    FNA BX W/O IMG GDN EA ADDL  \n",
       "4        609.74       FNA BX W/US GDN 1ST LES  \n",
       "...         ...                           ...  \n",
       "1602     174.00  Hospice care, in the home, p  \n",
       "1603     143.00  Speech therapy, in the home,  \n",
       "1604     143.00  Occupational therapy, in the  \n",
       "1605     107.00       Pt in the home per diem  \n",
       "1606      51.31     Covid-19 lab test non-cdc  \n",
       "\n",
       "[1607 rows x 6 columns]"
      ]
     },
     "execution_count": 34,
     "metadata": {},
     "output_type": "execute_result"
    }
   ],
   "source": [
    "df"
   ]
  },
  {
   "cell_type": "code",
   "execution_count": null,
   "metadata": {},
   "outputs": [],
   "source": []
  },
  {
   "cell_type": "markdown",
   "metadata": {},
   "source": [
    "### Data has been combined and is now accessible via dictionary or exported CSV version."
   ]
  }
 ],
 "metadata": {
  "celltoolbar": "Create Assignment",
  "kernelspec": {
   "display_name": "Python 3",
   "language": "python",
   "name": "python3"
  },
  "language_info": {
   "codemirror_mode": {
    "name": "ipython",
    "version": 3
   },
   "file_extension": ".py",
   "mimetype": "text/x-python",
   "name": "python",
   "nbconvert_exporter": "python",
   "pygments_lexer": "ipython3",
   "version": "3.6.7"
  }
 },
 "nbformat": 4,
 "nbformat_minor": 2
}
