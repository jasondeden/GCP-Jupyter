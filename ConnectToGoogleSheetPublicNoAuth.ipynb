{
 "cells": [
  {
   "cell_type": "markdown",
   "metadata": {},
   "source": [
    "# Connect to a Publicly Available Google Sheet\n",
    "I created a Google sheet from US Census data showing population by county, but this data did not include geo_id / fips_code, meaning it would be challenging to join this data with other tables that rely on that as the unique identifier. I then shared a copy of this sheet with public View permissions (if you have the link, you can view it). Now the question is, what do I need to do to access this data inside my notebook?\n",
    "\n",
    "The only real additional setup required here is to enable the Sheets API in your Google Cloud project. The rest of the authentication and everything remains the same. The documentation details a process using OAuth where the user gets prompted to provide credentials in a separate window, which are then stored and used from that point forward, but other than the cloud credentials (which allow us to run the API call) we don't demonstrate that here. Refer to the documentation for additional information."
   ]
  },
  {
   "cell_type": "markdown",
   "metadata": {},
   "source": [
    "## Make sure the core packages are installed"
   ]
  },
  {
   "cell_type": "code",
   "execution_count": null,
   "metadata": {},
   "outputs": [],
   "source": [
    "#Some of this is only required when you are accessing sheets that require authentication. The example here is for a publicly accessible sheet,\n",
    "#so authentication, storing credentials, and so forth are not required. Refer to the docs for more detail in those cases:\n",
    "# https://developers.google.com/sheets/api/quickstart/python\n",
    "\n",
    "#pip install --upgrade google-api-python-client google-auth-httplib2 google-auth-oauthlib --user "
   ]
  },
  {
   "cell_type": "markdown",
   "metadata": {},
   "source": [
    "## Import API build, set up OS and service account credentials, and define which API and what version build is going to use."
   ]
  },
  {
   "cell_type": "code",
   "execution_count": 2,
   "metadata": {},
   "outputs": [],
   "source": [
    "import os\n",
    "from googleapiclient.discovery import build\n",
    "\n",
    "os.environ[\"GOOGLE_APPLICATION_CREDENTIALS\"]=\"/<path>/<key>.json\"\n",
    "\n",
    "service = build('sheets', 'v4')"
   ]
  },
  {
   "cell_type": "markdown",
   "metadata": {},
   "source": [
    "## Store the spreadsheet ID and range to read in a variable\n",
    "\n",
    "### The ID appears in the browser address bar near the end"
   ]
  },
  {
   "cell_type": "code",
   "execution_count": 2,
   "metadata": {},
   "outputs": [],
   "source": [
    "spreadsheet_Id = '16JHUYR-1cBHs1XEHWNxyYja4sUmSXCSlcmKYFKR0CmU' #A sheet I built that combines 2019 county population estimates with fips code to make joining to other data easier\n",
    "\n",
    "# You can use your own spreadsheet ID - in fact, I'd recommend it! Just make sure you set sharing to Public, and I suggest Viewer to keep your data safe.\n",
    "\n",
    "range_read = 'A1:D10' #reads the first 10 rows of the four columns present"
   ]
  },
  {
   "cell_type": "markdown",
   "metadata": {},
   "source": [
    "## Create a variable that calls the API, tells it to read the spreadsheet, provides the ID and range to read, and collects the results.\n",
    "\n",
    "## Then subset just the values from the results and print them out\n",
    "\n",
    "### You can add a print(result) statement if you want to see what gets returned in the first statement."
   ]
  },
  {
   "cell_type": "code",
   "execution_count": 8,
   "metadata": {},
   "outputs": [
    {
     "name": "stdout",
     "output_type": "stream",
     "text": [
      "[['County', 'State', 'Population_2019', 'county_fips_code'], ['Autauga', 'AL', '55869', '1001'], ['Baldwin', 'AL', '223234', '1003'], ['Barbour', 'AL', '24686', '1005'], ['Bibb', 'AL', '22394', '1007'], ['Blount', 'AL', '57826', '1009'], ['Bullock', 'AL', '10101', '1011'], ['Butler', 'AL', '19448', '1013'], ['Calhoun', 'AL', '113605', '1015'], ['Chambers', 'AL', '33254', '1017']]\n"
     ]
    }
   ],
   "source": [
    "result = service.spreadsheets().values().get(\n",
    "    spreadsheetId=spreadsheet_Id, range=range_read).execute()\n",
    "rows = result.get('values', [])\n",
    "print(rows)"
   ]
  },
  {
   "cell_type": "markdown",
   "metadata": {},
   "source": [
    "## Now lets use some of that fancy pandas magic to make this easier on the eyes"
   ]
  },
  {
   "cell_type": "code",
   "execution_count": 10,
   "metadata": {},
   "outputs": [],
   "source": [
    "import pandas"
   ]
  },
  {
   "cell_type": "code",
   "execution_count": 12,
   "metadata": {},
   "outputs": [
    {
     "data": {
      "text/html": [
       "<div>\n",
       "<style scoped>\n",
       "    .dataframe tbody tr th:only-of-type {\n",
       "        vertical-align: middle;\n",
       "    }\n",
       "\n",
       "    .dataframe tbody tr th {\n",
       "        vertical-align: top;\n",
       "    }\n",
       "\n",
       "    .dataframe thead th {\n",
       "        text-align: right;\n",
       "    }\n",
       "</style>\n",
       "<table border=\"1\" class=\"dataframe\">\n",
       "  <thead>\n",
       "    <tr style=\"text-align: right;\">\n",
       "      <th></th>\n",
       "      <th>0</th>\n",
       "      <th>1</th>\n",
       "      <th>2</th>\n",
       "      <th>3</th>\n",
       "    </tr>\n",
       "  </thead>\n",
       "  <tbody>\n",
       "    <tr>\n",
       "      <th>0</th>\n",
       "      <td>County</td>\n",
       "      <td>State</td>\n",
       "      <td>Population_2019</td>\n",
       "      <td>county_fips_code</td>\n",
       "    </tr>\n",
       "    <tr>\n",
       "      <th>1</th>\n",
       "      <td>Autauga</td>\n",
       "      <td>AL</td>\n",
       "      <td>55869</td>\n",
       "      <td>1001</td>\n",
       "    </tr>\n",
       "    <tr>\n",
       "      <th>2</th>\n",
       "      <td>Baldwin</td>\n",
       "      <td>AL</td>\n",
       "      <td>223234</td>\n",
       "      <td>1003</td>\n",
       "    </tr>\n",
       "    <tr>\n",
       "      <th>3</th>\n",
       "      <td>Barbour</td>\n",
       "      <td>AL</td>\n",
       "      <td>24686</td>\n",
       "      <td>1005</td>\n",
       "    </tr>\n",
       "    <tr>\n",
       "      <th>4</th>\n",
       "      <td>Bibb</td>\n",
       "      <td>AL</td>\n",
       "      <td>22394</td>\n",
       "      <td>1007</td>\n",
       "    </tr>\n",
       "    <tr>\n",
       "      <th>5</th>\n",
       "      <td>Blount</td>\n",
       "      <td>AL</td>\n",
       "      <td>57826</td>\n",
       "      <td>1009</td>\n",
       "    </tr>\n",
       "    <tr>\n",
       "      <th>6</th>\n",
       "      <td>Bullock</td>\n",
       "      <td>AL</td>\n",
       "      <td>10101</td>\n",
       "      <td>1011</td>\n",
       "    </tr>\n",
       "    <tr>\n",
       "      <th>7</th>\n",
       "      <td>Butler</td>\n",
       "      <td>AL</td>\n",
       "      <td>19448</td>\n",
       "      <td>1013</td>\n",
       "    </tr>\n",
       "    <tr>\n",
       "      <th>8</th>\n",
       "      <td>Calhoun</td>\n",
       "      <td>AL</td>\n",
       "      <td>113605</td>\n",
       "      <td>1015</td>\n",
       "    </tr>\n",
       "    <tr>\n",
       "      <th>9</th>\n",
       "      <td>Chambers</td>\n",
       "      <td>AL</td>\n",
       "      <td>33254</td>\n",
       "      <td>1017</td>\n",
       "    </tr>\n",
       "  </tbody>\n",
       "</table>\n",
       "</div>"
      ],
      "text/plain": [
       "          0      1                2                 3\n",
       "0    County  State  Population_2019  county_fips_code\n",
       "1   Autauga     AL            55869              1001\n",
       "2   Baldwin     AL           223234              1003\n",
       "3   Barbour     AL            24686              1005\n",
       "4      Bibb     AL            22394              1007\n",
       "5    Blount     AL            57826              1009\n",
       "6   Bullock     AL            10101              1011\n",
       "7    Butler     AL            19448              1013\n",
       "8   Calhoun     AL           113605              1015\n",
       "9  Chambers     AL            33254              1017"
      ]
     },
     "execution_count": 12,
     "metadata": {},
     "output_type": "execute_result"
    }
   ],
   "source": [
    "pandas.DataFrame(rows)"
   ]
  },
  {
   "cell_type": "markdown",
   "metadata": {},
   "source": [
    "# We've now demonstrated the ability to use APIs in Python to connect to a Google Sheet."
   ]
  },
  {
   "cell_type": "code",
   "execution_count": null,
   "metadata": {},
   "outputs": [],
   "source": []
  }
 ],
 "metadata": {
  "kernelspec": {
   "display_name": "Python 3",
   "language": "python",
   "name": "python3"
  },
  "language_info": {
   "codemirror_mode": {
    "name": "ipython",
    "version": 3
   },
   "file_extension": ".py",
   "mimetype": "text/x-python",
   "name": "python",
   "nbconvert_exporter": "python",
   "pygments_lexer": "ipython3",
   "version": "3.6.7"
  }
 },
 "nbformat": 4,
 "nbformat_minor": 4
}
