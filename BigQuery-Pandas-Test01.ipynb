{
 "cells": [
  {
   "cell_type": "markdown",
   "metadata": {},
   "source": [
    "# BigQuery Pandas and Magic Integration"
   ]
  },
  {
   "cell_type": "markdown",
   "metadata": {},
   "source": [
    "In this notebook I walk through the process of integrating bigquery and pandas, plus using magic cell syntax to simplify the ability to work with BigQuery and produce more visually appealing outputs."
   ]
  },
  {
   "cell_type": "markdown",
   "metadata": {},
   "source": [
    "## Install Packages"
   ]
  },
  {
   "cell_type": "markdown",
   "metadata": {},
   "source": [
    "Building off of the previous packages we've already installed in the GoogleConnectTests notebook,  we have three more dependencies:"
   ]
  },
  {
   "cell_type": "code",
   "execution_count": null,
   "metadata": {},
   "outputs": [],
   "source": [
    "#pip install pandas #Hopefully obvious..."
   ]
  },
  {
   "cell_type": "code",
   "execution_count": null,
   "metadata": {},
   "outputs": [],
   "source": [
    "#pip install --upgrade 'google-cloud-bigquery[pandas]' --user #New package requirement"
   ]
  },
  {
   "cell_type": "code",
   "execution_count": null,
   "metadata": {},
   "outputs": [],
   "source": [
    "#pip install --upgrade google-cloud-bigquery_storage --user  #New package requirement"
   ]
  },
  {
   "cell_type": "markdown",
   "metadata": {},
   "source": [
    "## Enable BigQuery Cell Magic"
   ]
  },
  {
   "cell_type": "markdown",
   "metadata": {},
   "source": [
    "This is what enables the %%bigquery magic cell stuff work:"
   ]
  },
  {
   "cell_type": "code",
   "execution_count": null,
   "metadata": {},
   "outputs": [],
   "source": [
    "%load_ext google.cloud.bigquery"
   ]
  },
  {
   "cell_type": "markdown",
   "metadata": {},
   "source": [
    "## Point to Service Account Credentials"
   ]
  },
  {
   "cell_type": "markdown",
   "metadata": {},
   "source": [
    "Point to your service account key:"
   ]
  },
  {
   "cell_type": "code",
   "execution_count": 18,
   "metadata": {},
   "outputs": [],
   "source": [
    "#Must be run again after restarting kernel\n",
    "import os\n",
    "os.environ[\"GOOGLE_APPLICATION_CREDENTIALS\"]=\"/<path>/<key>.json\""
   ]
  },
  {
   "cell_type": "markdown",
   "metadata": {},
   "source": [
    "## Import BigQuery Modules (note the plural!)"
   ]
  },
  {
   "cell_type": "markdown",
   "metadata": {},
   "source": [
    "This is similar to before, however there's a dependency on the bigquery_storage package we installed earlier. I think the bigquery[pandas] package will try to import this if you don't already have it loaded, but just in case:"
   ]
  },
  {
   "cell_type": "code",
   "execution_count": 19,
   "metadata": {},
   "outputs": [],
   "source": [
    "from google.cloud import bigquery  #enable BigQuery - rerun at kernel restart\n",
    "from google.cloud import bigquery_storage #NOTE THE ADDITION HERE - this is a requirement for the pandas inclusion"
   ]
  },
  {
   "cell_type": "markdown",
   "metadata": {},
   "source": [
    "## Confirm Things from Before Still Work"
   ]
  },
  {
   "cell_type": "markdown",
   "metadata": {},
   "source": [
    "Now let's make sure what we did earlier still works. For example, this will fail if you forgot to enable the service account, so a good check."
   ]
  },
  {
   "cell_type": "code",
   "execution_count": 20,
   "metadata": {},
   "outputs": [
    {
     "name": "stdout",
     "output_type": "stream",
     "text": [
      "Tables contained in 'bigquery-public-data.covid19_aha':\n",
      "bigquery-public-data.covid19_aha.hospital_beds\n",
      "bigquery-public-data.covid19_aha.staffing\n"
     ]
    }
   ],
   "source": [
    "dataset_id = 'bigquery-public-data.covid19_aha' #specify the dataset you want to work with,located in bigquery-public-data \n",
    "\n",
    "client = bigquery.Client()\n",
    "\n",
    "tables = client.list_tables(dataset_id)  # Make an API request.\n",
    "\n",
    "print(\"Tables contained in '{}':\".format(dataset_id))\n",
    "for table in tables:\n",
    "    print(\"{}.{}.{}\".format(table.project, table.dataset_id, table.table_id))"
   ]
  },
  {
   "cell_type": "code",
   "execution_count": 22,
   "metadata": {},
   "outputs": [
    {
     "name": "stdout",
     "output_type": "stream",
     "text": [
      "Windsor County : Vermont : 70 \n",
      "Apache County : Arizona : 143 \n",
      "Iberville Parish : Louisiana : 8 \n",
      "Adair County : Oklahoma : 34 \n",
      "Graves County : Kentucky : 227 \n",
      "Platte County : Nebraska : 51 \n",
      "Lincoln Parish : Louisiana : 177 \n",
      "Lawrence County : Tennessee : 99 \n",
      "Geneva County : Alabama : 147 \n",
      "Hamilton County : Illinois : 25 \n"
     ]
    }
   ],
   "source": [
    "query_job = client.query(\n",
    "    \"\"\"\n",
    "   SELECT county_name, state_name, total_hospital_beds FROM `bigquery-public-data.covid19_aha.hospital_beds` LIMIT 10\"\"\"\n",
    ")\n",
    "results = query_job.result()  # Waits for job to complete.\n",
    "\n",
    "for row in results:\n",
    "    print(\"{} : {} : {} \".format(row.county_name, row.state_name, row.total_hospital_beds))"
   ]
  },
  {
   "cell_type": "markdown",
   "metadata": {},
   "source": [
    "## Do the Same Thing, Only Easier / Prettier / Better (?)"
   ]
  },
  {
   "cell_type": "markdown",
   "metadata": {},
   "source": [
    "OK, now that we're functional using our previous methods, let's do the same query as above but using our fancy new tool kit."
   ]
  },
  {
   "cell_type": "code",
   "execution_count": 23,
   "metadata": {},
   "outputs": [
    {
     "name": "stderr",
     "output_type": "stream",
     "text": [
      "Query complete after 0.00s: 100%|██████████| 1/1 [00:00<00:00, 257.78query/s]\n",
      "Downloading: 100%|██████████| 10/10 [00:01<00:00,  5.46rows/s]\n"
     ]
    },
    {
     "data": {
      "text/html": [
       "<div>\n",
       "<style scoped>\n",
       "    .dataframe tbody tr th:only-of-type {\n",
       "        vertical-align: middle;\n",
       "    }\n",
       "\n",
       "    .dataframe tbody tr th {\n",
       "        vertical-align: top;\n",
       "    }\n",
       "\n",
       "    .dataframe thead th {\n",
       "        text-align: right;\n",
       "    }\n",
       "</style>\n",
       "<table border=\"1\" class=\"dataframe\">\n",
       "  <thead>\n",
       "    <tr style=\"text-align: right;\">\n",
       "      <th></th>\n",
       "      <th>county_name</th>\n",
       "      <th>state_name</th>\n",
       "      <th>total_hospital_beds</th>\n",
       "    </tr>\n",
       "  </thead>\n",
       "  <tbody>\n",
       "    <tr>\n",
       "      <th>0</th>\n",
       "      <td>Windsor County</td>\n",
       "      <td>Vermont</td>\n",
       "      <td>70</td>\n",
       "    </tr>\n",
       "    <tr>\n",
       "      <th>1</th>\n",
       "      <td>Apache County</td>\n",
       "      <td>Arizona</td>\n",
       "      <td>143</td>\n",
       "    </tr>\n",
       "    <tr>\n",
       "      <th>2</th>\n",
       "      <td>Iberville Parish</td>\n",
       "      <td>Louisiana</td>\n",
       "      <td>8</td>\n",
       "    </tr>\n",
       "    <tr>\n",
       "      <th>3</th>\n",
       "      <td>Adair County</td>\n",
       "      <td>Oklahoma</td>\n",
       "      <td>34</td>\n",
       "    </tr>\n",
       "    <tr>\n",
       "      <th>4</th>\n",
       "      <td>Graves County</td>\n",
       "      <td>Kentucky</td>\n",
       "      <td>227</td>\n",
       "    </tr>\n",
       "    <tr>\n",
       "      <th>5</th>\n",
       "      <td>Platte County</td>\n",
       "      <td>Nebraska</td>\n",
       "      <td>51</td>\n",
       "    </tr>\n",
       "    <tr>\n",
       "      <th>6</th>\n",
       "      <td>Lincoln Parish</td>\n",
       "      <td>Louisiana</td>\n",
       "      <td>177</td>\n",
       "    </tr>\n",
       "    <tr>\n",
       "      <th>7</th>\n",
       "      <td>Lawrence County</td>\n",
       "      <td>Tennessee</td>\n",
       "      <td>99</td>\n",
       "    </tr>\n",
       "    <tr>\n",
       "      <th>8</th>\n",
       "      <td>Geneva County</td>\n",
       "      <td>Alabama</td>\n",
       "      <td>147</td>\n",
       "    </tr>\n",
       "    <tr>\n",
       "      <th>9</th>\n",
       "      <td>Hamilton County</td>\n",
       "      <td>Illinois</td>\n",
       "      <td>25</td>\n",
       "    </tr>\n",
       "  </tbody>\n",
       "</table>\n",
       "</div>"
      ],
      "text/plain": [
       "        county_name state_name  total_hospital_beds\n",
       "0    Windsor County    Vermont                   70\n",
       "1     Apache County    Arizona                  143\n",
       "2  Iberville Parish  Louisiana                    8\n",
       "3      Adair County   Oklahoma                   34\n",
       "4     Graves County   Kentucky                  227\n",
       "5     Platte County   Nebraska                   51\n",
       "6    Lincoln Parish  Louisiana                  177\n",
       "7   Lawrence County  Tennessee                   99\n",
       "8     Geneva County    Alabama                  147\n",
       "9   Hamilton County   Illinois                   25"
      ]
     },
     "execution_count": 23,
     "metadata": {},
     "output_type": "execute_result"
    }
   ],
   "source": [
    "%%bigquery\n",
    "SELECT\n",
    "    county_name,\n",
    "    state_name,\n",
    "    total_hospital_beds\n",
    "FROM `bigquery-public-data.covid19_aha.hospital_beds`\n",
    "LIMIT 10"
   ]
  },
  {
   "cell_type": "markdown",
   "metadata": {},
   "source": [
    "## Ooooh, pretty! And definitely easier to code and interact with vs. the previous method."
   ]
  },
  {
   "cell_type": "code",
   "execution_count": null,
   "metadata": {},
   "outputs": [],
   "source": []
  }
 ],
 "metadata": {
  "kernelspec": {
   "display_name": "Python 3",
   "language": "python",
   "name": "python3"
  },
  "language_info": {
   "codemirror_mode": {
    "name": "ipython",
    "version": 3
   },
   "file_extension": ".py",
   "mimetype": "text/x-python",
   "name": "python",
   "nbconvert_exporter": "python",
   "pygments_lexer": "ipython3",
   "version": "3.6.7"
  }
 },
 "nbformat": 4,
 "nbformat_minor": 4
}
