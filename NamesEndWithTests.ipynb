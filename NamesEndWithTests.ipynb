{
 "cells": [
  {
   "cell_type": "code",
   "execution_count": 1,
   "id": "5f2e5146",
   "metadata": {},
   "outputs": [],
   "source": [
    "import numpy as np"
   ]
  },
  {
   "cell_type": "code",
   "execution_count": 2,
   "id": "ed6f965c",
   "metadata": {},
   "outputs": [],
   "source": [
    "vowels=np.array(['a','e','i','o','u'])"
   ]
  },
  {
   "cell_type": "code",
   "execution_count": 3,
   "id": "4234d1d8",
   "metadata": {},
   "outputs": [
    {
     "data": {
      "text/plain": [
       "array(['a', 'e', 'i', 'o', 'u'], dtype='<U1')"
      ]
     },
     "execution_count": 3,
     "metadata": {},
     "output_type": "execute_result"
    }
   ],
   "source": [
    "vowels"
   ]
  },
  {
   "cell_type": "code",
   "execution_count": 6,
   "id": "16535832",
   "metadata": {},
   "outputs": [],
   "source": [
    "names = ['jason','syed']"
   ]
  },
  {
   "cell_type": "code",
   "execution_count": 35,
   "id": "59d081d3",
   "metadata": {},
   "outputs": [],
   "source": [
    "#This will evaluate multiple names, but only one character at a time\n",
    "BF= np.array(np.char.endswith(names, 'n'), dtype=int)"
   ]
  },
  {
   "cell_type": "code",
   "execution_count": 29,
   "id": "d399640f",
   "metadata": {},
   "outputs": [
    {
     "data": {
      "text/plain": [
       "array([1, 0])"
      ]
     },
     "execution_count": 29,
     "metadata": {},
     "output_type": "execute_result"
    }
   ],
   "source": [
    "BF"
   ]
  },
  {
   "cell_type": "code",
   "execution_count": null,
   "id": "53178b85",
   "metadata": {},
   "outputs": [],
   "source": []
  },
  {
   "cell_type": "code",
   "execution_count": 25,
   "id": "9eb9df6f",
   "metadata": {},
   "outputs": [],
   "source": [
    "lastchar = [x[-1] for x in names]"
   ]
  },
  {
   "cell_type": "code",
   "execution_count": 26,
   "id": "8f0f02cf",
   "metadata": {},
   "outputs": [
    {
     "data": {
      "text/plain": [
       "array([False, False])"
      ]
     },
     "execution_count": 26,
     "metadata": {},
     "output_type": "execute_result"
    }
   ],
   "source": [
    "np.isin(lastchar,vowels)"
   ]
  },
  {
   "cell_type": "code",
   "execution_count": 27,
   "id": "0f134c44",
   "metadata": {},
   "outputs": [],
   "source": [
    "#do a postivie test make sure eval is working"
   ]
  },
  {
   "cell_type": "code",
   "execution_count": 30,
   "id": "800eb6de",
   "metadata": {},
   "outputs": [],
   "source": [
    "otherletters = np.array(['n','z','g'])"
   ]
  },
  {
   "cell_type": "code",
   "execution_count": 31,
   "id": "8c274ce4",
   "metadata": {},
   "outputs": [
    {
     "data": {
      "text/plain": [
       "array([ True, False])"
      ]
     },
     "execution_count": 31,
     "metadata": {},
     "output_type": "execute_result"
    }
   ],
   "source": [
    "np.isin(lastchar,otherletters)"
   ]
  },
  {
   "cell_type": "code",
   "execution_count": null,
   "id": "171231cd",
   "metadata": {},
   "outputs": [],
   "source": []
  }
 ],
 "metadata": {
  "kernelspec": {
   "display_name": "Python 3 (ipykernel)",
   "language": "python",
   "name": "python3"
  },
  "language_info": {
   "codemirror_mode": {
    "name": "ipython",
    "version": 3
   },
   "file_extension": ".py",
   "mimetype": "text/x-python",
   "name": "python",
   "nbconvert_exporter": "python",
   "pygments_lexer": "ipython3",
   "version": "3.9.7"
  }
 },
 "nbformat": 4,
 "nbformat_minor": 5
}
